{
 "cells": [
  {
   "cell_type": "markdown",
   "metadata": {},
   "source": [
    "# Model research and computing for voicing detection"
   ]
  },
  {
   "cell_type": "markdown",
   "metadata": {},
   "source": [
    "## Project setup"
   ]
  },
  {
   "cell_type": "code",
   "execution_count": 1,
   "metadata": {},
   "outputs": [],
   "source": [
    "# To support both python 2 and python 3\n",
    "from __future__ import division, print_function, unicode_literals\n",
    "\n",
    "# Common imports\n",
    "import numpy as np\n",
    "import os\n",
    "\n",
    "# to make this notebook's output stable across runs\n",
    "np.random.seed(42)\n",
    "\n",
    "# To plot pretty figures\n",
    "%matplotlib inline\n",
    "import matplotlib\n",
    "import matplotlib.pyplot as plt\n",
    "plt.rcParams['axes.labelsize'] = 14\n",
    "plt.rcParams['xtick.labelsize'] = 12\n",
    "plt.rcParams['ytick.labelsize'] = 12\n",
    "\n",
    "datadir = \"../data\"\n",
    "gui_train = \"../ptdb_tug.gui\"\n",
    "gui_test = \"../fda_ue.gui\""
   ]
  },
  {
   "cell_type": "markdown",
   "metadata": {},
   "source": [
    "## Getting the parameters"
   ]
  },
  {
   "cell_type": "code",
   "execution_count": 2,
   "metadata": {},
   "outputs": [],
   "source": [
    "def get_zero_crossing(frame):\n",
    "    \"\"\"\n",
    "    Computes zero crossing rate of frame\n",
    "    \"\"\"\n",
    "    count = len(frame)\n",
    "    countZ = np.sum(np.abs(np.diff(np.sign(frame)))) / 2\n",
    "    return np.float64(countZ) / np.float64(count-1.0)"
   ]
  },
  {
   "cell_type": "code",
   "execution_count": 3,
   "metadata": {},
   "outputs": [],
   "source": [
    "def get_log_energy(frame):\n",
    "    \"\"\"\n",
    "    Computes signal energy of frame\n",
    "    \"\"\"\n",
    "    \n",
    "    if np.float64(len(frame)) <= 0:\n",
    "        return 0\n",
    "    else:\n",
    "        energy = np.sum(frame ** 2) / np.float64(len(frame))\n",
    "\n",
    "        if energy <= 0:\n",
    "            return 0\n",
    "        else:\n",
    "            log_energy = np.log10(energy)\n",
    "            return log_energy\n",
    "    \n",
    "    return 0"
   ]
  },
  {
   "cell_type": "code",
   "execution_count": 4,
   "metadata": {},
   "outputs": [],
   "source": [
    "from scipy.signal import correlate\n",
    "\n",
    "def get_autocorr(frame):\n",
    "    frame = frame.astype(np.float)\n",
    "    frame -= frame.mean()\n",
    "    amax = np.abs(frame).max()\n",
    "    frame /= amax\n",
    "    defvalue = (0.0, 1.0)\n",
    "    corr = correlate(frame, frame)\n",
    "    # keep the positive part\n",
    "    corr = corr[round(len(corr)/2):]\n",
    "\n",
    "    # Find the first minimum\n",
    "    dcorr = np.diff(corr)\n",
    "    rmin = np.where(dcorr > 0)[0]\n",
    "    if len(rmin) > 0:\n",
    "        rmin1 = rmin[0]\n",
    "    else:\n",
    "        return defvalue\n",
    "\n",
    "    # Find the next peak\n",
    "    peak = np.argmax(corr[rmin1:]) + rmin1\n",
    "\n",
    "    # Two features\n",
    "    r1=corr[1]/corr[0]\n",
    "    rmax = corr[peak]/corr[0]\n",
    "\n",
    "    return r1, rmax"
   ]
  },
  {
   "cell_type": "markdown",
   "metadata": {},
   "source": [
    "## Getting the data"
   ]
  },
  {
   "cell_type": "code",
   "execution_count": 5,
   "metadata": {},
   "outputs": [],
   "source": [
    "from scipy.io import wavfile\n",
    "\n",
    "def get_data(gui, windowlength, frameshift, padding):\n",
    "    \n",
    "    wav_files = []\n",
    "    voicing_results = []\n",
    "    sample_rate = 0\n",
    "\n",
    "    with open(gui) as f:\n",
    "        for line in f:\n",
    "            line = line.strip()\n",
    "            if len(line) == 0:\n",
    "                continue\n",
    "            file_name = os.path.join(datadir, line + \".wav\")\n",
    "            voicing_file = os.path.join(datadir, line + \".f0ref\")\n",
    "            sample_rate, data = wavfile.read(file_name)\n",
    "\n",
    "            nSamples = len(data)\n",
    "\n",
    "            # From miliseconds to samples\n",
    "            ns_windowlength = int(round((windowlength * sample_rate) / 1000))\n",
    "            ns_frameshift = int(round((frameshift * sample_rate) / 1000))\n",
    "            ns_padding = int(round((padding * sample_rate) / 1000))\n",
    "\n",
    "            frames = []\n",
    "            for ini in range(-ns_padding, nSamples - ns_windowlength + ns_padding + 1, ns_frameshift):\n",
    "                first_sample = max(0, ini)\n",
    "                last_sample = min(nSamples, ini + ns_windowlength)\n",
    "                frame = data[first_sample:last_sample]\n",
    "                frames.append(frame)\n",
    "\n",
    "            wav_files += frames\n",
    "\n",
    "            with open(voicing_file) as v:\n",
    "                for line in v:\n",
    "                    if line != \"\":      \n",
    "                        if abs(float(line)) == 0:\n",
    "                            voicing_results.append(False)\n",
    "                        else:\n",
    "                            voicing_results.append(True)\n",
    "            \n",
    "            wav_files = wav_files[:len(voicing_results)]\n",
    "            voicing_results = voicing_results[:len(wav_files)]    \n",
    "            \n",
    "\n",
    "    np_wav = np.array(wav_files)\n",
    "    np_voicing = np.array(voicing_results)\n",
    "    print(\"nb_samples_wav\", np_wav.size)\n",
    "    print(\"nb_samples_voicing\", np_voicing.size)\n",
    "    print(\"sample_rate\", sample_rate)\n",
    "    # np_wav = np_wav[:len(np_voicing)]\n",
    "    # np_voicing = np_voicing[:len(np_wav)]\n",
    "        \n",
    "    formated_data = []\n",
    "    for data in np_wav:\n",
    "        zc = get_zero_crossing(data)\n",
    "        energy = get_log_energy(data)\n",
    "        r1, rmax = get_autocorr(data)\n",
    "        formated_data.append([zc, energy, r1, rmax])\n",
    "        \n",
    "    np_formated = np.array(formated_data)\n",
    "    \n",
    "    return np_formated, np_voicing"
   ]
  },
  {
   "cell_type": "code",
   "execution_count": 6,
   "metadata": {
    "scrolled": false
   },
   "outputs": [
    {
     "name": "stdout",
     "output_type": "stream",
     "text": [
      "nb_samples_wav 22140\n",
      "nb_samples_voicing 22140\n",
      "sample_rate 20000\n",
      "(22140, 4)\n"
     ]
    }
   ],
   "source": [
    "formated_data_test, np_voicing_test = get_data(gui_test, 32, 15, 16)\n",
    "print(formated_data_test.shape)"
   ]
  },
  {
   "cell_type": "code",
   "execution_count": 110,
   "metadata": {},
   "outputs": [
    {
     "name": "stdout",
     "output_type": "stream",
     "text": [
      "nb_samples_wav 214447104\n",
      "nb_samples_voicing 139614\n",
      "sample_rate 48000\n"
     ]
    },
    {
     "data": {
      "text/plain": [
       "(139614, 4)"
      ]
     },
     "execution_count": 110,
     "metadata": {},
     "output_type": "execute_result"
    }
   ],
   "source": [
    "formated_data_train, np_voicing_train = get_data(gui_train, 32, 10, 0)\n",
    "formated_data_train.shape"
   ]
  },
  {
   "cell_type": "markdown",
   "metadata": {},
   "source": [
    "## Testing the model"
   ]
  },
  {
   "cell_type": "markdown",
   "metadata": {},
   "source": [
    "### MLP Classifier"
   ]
  },
  {
   "cell_type": "code",
   "execution_count": 113,
   "metadata": {},
   "outputs": [
    {
     "name": "stdout",
     "output_type": "stream",
     "text": [
      "0.07158988256549233\n"
     ]
    }
   ],
   "source": [
    "from sklearn.neural_network import MLPClassifier\n",
    "from sklearn.preprocessing import StandardScaler \n",
    "\n",
    "scaler = StandardScaler()\n",
    "scaler.fit(formated_data_test)  \n",
    "X_train = scaler.transform(formated_data_test)\n",
    "\n",
    "clf = MLPClassifier(solver='lbfgs', alpha=1e-3,hidden_layer_sizes=(25,10), random_state=1)\n",
    "clf.fit(X_train, np_voicing_test)\n",
    "\n",
    "res = clf.predict(X_train)\n",
    "\n",
    "number_failures = 0\n",
    "for i in range(len(formated_data_test)):\n",
    "    if res[i] != np_voicing_test[i]:\n",
    "        number_failures += 1\n",
    "print(number_failures/len(formated_data_test))"
   ]
  },
  {
   "cell_type": "code",
   "execution_count": 112,
   "metadata": {},
   "outputs": [
    {
     "name": "stdout",
     "output_type": "stream",
     "text": [
      "0.4492321589882565\n"
     ]
    }
   ],
   "source": [
    "from sklearn.neural_network import MLPClassifier\n",
    "from sklearn.preprocessing import StandardScaler \n",
    "\n",
    "scaler = StandardScaler()\n",
    "scaler.fit(formated_data_train)  \n",
    "X_train = scaler.transform(formated_data_train)\n",
    "\n",
    "clf = MLPClassifier(solver='lbfgs', alpha=1e-3,hidden_layer_sizes=(25,10), random_state=1)\n",
    "clf.fit(X_train, np_voicing_train)\n",
    "\n",
    "res = clf.predict(X_train)\n",
    "\n",
    "number_failures = 0\n",
    "for i in range(len(formated_data_test)):\n",
    "    if res[i] != np_voicing_test[i]:\n",
    "        number_failures += 1\n",
    "print(number_failures/len(formated_data_test))"
   ]
  },
  {
   "cell_type": "markdown",
   "metadata": {},
   "source": [
    "### DecisionTreeClassifier"
   ]
  },
  {
   "cell_type": "code",
   "execution_count": 116,
   "metadata": {},
   "outputs": [
    {
     "data": {
      "text/plain": [
       "RandomForestClassifier(bootstrap=True, class_weight=None, criterion='gini',\n",
       "            max_depth=None, max_features='auto', max_leaf_nodes=None,\n",
       "            min_impurity_decrease=0.0, min_impurity_split=None,\n",
       "            min_samples_leaf=1, min_samples_split=2,\n",
       "            min_weight_fraction_leaf=0.0, n_estimators=10, n_jobs=1,\n",
       "            oob_score=False, random_state=42, verbose=0, warm_start=False)"
      ]
     },
     "execution_count": 116,
     "metadata": {},
     "output_type": "execute_result"
    }
   ],
   "source": [
    "from sklearn.ensemble import RandomForestClassifier\n",
    "\n",
    "decision_clf = RandomForestClassifier(random_state=42)\n",
    "decision_clf.fit(formated_data_train, np_voicing_train)"
   ]
  },
  {
   "cell_type": "code",
   "execution_count": 121,
   "metadata": {
    "scrolled": false
   },
   "outputs": [],
   "source": [
    "res = decision_clf.predict(formated_data_test)"
   ]
  },
  {
   "cell_type": "code",
   "execution_count": 122,
   "metadata": {},
   "outputs": [
    {
     "name": "stdout",
     "output_type": "stream",
     "text": [
      "0.47710027100271\n"
     ]
    }
   ],
   "source": [
    "number_failures = 0\n",
    "for i in range(len(formated_data_test)):\n",
    "    if res[i] != np_voicing_test[i]:\n",
    "        number_failures += 1\n",
    "print(number_failures/len(formated_data_test))"
   ]
  },
  {
   "cell_type": "code",
   "execution_count": 123,
   "metadata": {
    "scrolled": true
   },
   "outputs": [
    {
     "name": "stdout",
     "output_type": "stream",
     "text": [
      "BayesianGaussianMixture(covariance_prior=None, covariance_type='full',\n",
      "            degrees_of_freedom_prior=None, init_params='kmeans',\n",
      "            max_iter=100, mean_precision_prior=None, mean_prior=None,\n",
      "            n_components=2, n_init=1, random_state=None, reg_covar=1e-06,\n",
      "            tol=0.001, verbose=0, verbose_interval=10, warm_start=False,\n",
      "            weight_concentration_prior=None,\n",
      "            weight_concentration_prior_type='dirichlet_process')\n",
      "0.47710027100271\n"
     ]
    }
   ],
   "source": [
    "from sklearn.mixture import BayesianGaussianMixture\n",
    "\n",
    "decision_clf = BayesianGaussianMixture(n_components=2)\n",
    "decision_clf.fit(formated_data_test, np_voicing_test)\n",
    "res = decision_clf.score(formated_data_test, np_voicing_test)\n",
    "print(decision_clf)\n",
    "res = decision_clf.predict(formated_data_test)\n",
    "number_failures = 0\n",
    "for i in range(len(formated_data_test)):\n",
    "    if res[i] != np_voicing_test[i]:\n",
    "        number_failures += 1\n",
    "print(number_failures/len(formated_data_test))"
   ]
  },
  {
   "cell_type": "markdown",
   "metadata": {},
   "source": [
    "## Statistical approximation"
   ]
  },
  {
   "cell_type": "code",
   "execution_count": 168,
   "metadata": {},
   "outputs": [],
   "source": [
    "def get_feature_data(index):\n",
    "    \n",
    "    voiced_signals = []\n",
    "    unvoiced_signals = []\n",
    "\n",
    "    i = 0\n",
    "    while i < len(formated_data_test):\n",
    "        if np_voicing_test[i]:\n",
    "            voiced_signals.append(formated_data_test[i][index])\n",
    "        else:\n",
    "            unvoiced_signals.append(formated_data_test[i][index])\n",
    "        i += 1\n",
    "\n",
    "    voiced_signals = np.sort(np.array(voiced_signals))\n",
    "    voiced_std = np.std(voiced_signals)\n",
    "    voiced_mean = np.mean(voiced_signals)\n",
    "    print(\"voiced_mean\", voiced_mean)\n",
    "    print(\"voiced_std\", voiced_std)\n",
    "    voiced_signals = voiced_signals[abs(voiced_signals - voiced_mean) < 3*voiced_std]\n",
    "\n",
    "    unvoiced_signals = np.sort(np.array(unvoiced_signals))\n",
    "    unvoiced_std = np.std(unvoiced_signals)\n",
    "    unvoiced_mean = np.mean(unvoiced_signals)\n",
    "    print(\"unvoiced_mean\", unvoiced_mean)\n",
    "    print(\"unvoiced_std\", unvoiced_std)\n",
    "    unvoiced_signals = unvoiced_signals[abs(unvoiced_signals - unvoiced_mean) < 3*unvoiced_std]\n",
    "    \n",
    "    \n",
    "    return voiced_signals, unvoiced_signals\n"
   ]
  },
  {
   "cell_type": "code",
   "execution_count": 178,
   "metadata": {},
   "outputs": [],
   "source": [
    "import scipy.stats as stats\n",
    "import matplotlib.mlab as mlab\n",
    "\n",
    "def solve(m1,m2,std1,std2):\n",
    "  a = 1/(2*std1**2) - 1/(2*std2**2)\n",
    "  b = m2/(std2**2) - m1/(std1**2)\n",
    "  c = m1**2 /(2*std1**2) - m2**2 / (2*std2**2) - np.log(std2/std1)\n",
    "  return np.roots([a,b,c])\n",
    "\n",
    "def print_distrubutions(voiced_signals, unvoiced_signals):\n",
    "    fit_v = stats.norm.pdf(voiced_signals, np.mean(voiced_signals), np.std(voiced_signals))  #this is a fitting indeed\n",
    "    fit_uv = stats.norm.pdf(unvoiced_signals, np.mean(unvoiced_signals), np.std(unvoiced_signals))  #this is a fitting indeed\n",
    "\n",
    "    results=solve(np.mean(voiced_signals), np.mean(unvoiced_signals), np.std(voiced_signals), np.std(unvoiced_signals))\n",
    "\n",
    "    plt.plot(voiced_signals, fit_v, label='Voiced signals')\n",
    "    plt.plot(unvoiced_signals, fit_uv, label='Unvoiced signals')\n",
    "    plt.legend()\n",
    "    plt.show()\n",
    "    \n",
    "    print(\"intersections\", results)\n",
    "\n"
   ]
  },
  {
   "cell_type": "markdown",
   "metadata": {},
   "source": [
    "### Zero crossing distrubution"
   ]
  },
  {
   "cell_type": "code",
   "execution_count": 179,
   "metadata": {},
   "outputs": [
    {
     "name": "stdout",
     "output_type": "stream",
     "text": [
      "voiced_mean 0.07343788136397379\n",
      "voiced_std 0.06092379885442796\n",
      "unvoiced_mean 0.2977151353641063\n",
      "unvoiced_std 0.15262334652074708\n"
     ]
    },
    {
     "data": {
      "image/png": "[encoded data removed]",
      "text/plain": [
       "<matplotlib.figure.Figure at 0x1137973c8>"
      ]
     },
     "metadata": {},
     "output_type": "display_data"
    },
    {
     "name": "stdout",
     "output_type": "stream",
     "text": [
      "intersections [ 0.13956862 -0.03773243]\n"
     ]
    }
   ],
   "source": [
    "voiced_signals, unvoiced_signals = get_feature_data(0)\n",
    "print_distrubutions(voiced_signals, unvoiced_signals)"
   ]
  },
  {
   "cell_type": "markdown",
   "metadata": {},
   "source": [
    "### Energy distribution"
   ]
  },
  {
   "cell_type": "code",
   "execution_count": 180,
   "metadata": {},
   "outputs": [
    {
     "name": "stdout",
     "output_type": "stream",
     "text": [
      "voiced_mean 2.5503849516653188\n",
      "voiced_std 1.1206031816730169\n",
      "unvoiced_mean 2.4349508350504485\n",
      "unvoiced_std 0.9555855572306294\n"
     ]
    },
    {
     "data": {
      "image/png": "[encoded data removed]",
      "text/plain": [
       "<matplotlib.figure.Figure at 0x113882710>"
      ]
     },
     "metadata": {},
     "output_type": "display_data"
    },
    {
     "name": "stdout",
     "output_type": "stream",
     "text": [
      "intersections [3.22112836 1.03344603]\n"
     ]
    }
   ],
   "source": [
    "voiced_signals, unvoiced_signals = get_feature_data(1)\n",
    "print_distrubutions(voiced_signals, unvoiced_signals)"
   ]
  },
  {
   "cell_type": "markdown",
   "metadata": {},
   "source": [
    "### R1 distrubution"
   ]
  },
  {
   "cell_type": "code",
   "execution_count": 181,
   "metadata": {},
   "outputs": [
    {
     "name": "stdout",
     "output_type": "stream",
     "text": [
      "voiced_mean 0.9061548802720991\n",
      "voiced_std 1.0167592535666152\n",
      "unvoiced_mean 0.5016389063200578\n",
      "unvoiced_std 12.334876314864031\n"
     ]
    },
    {
     "data": {
      "image/png": "[encoded data removed]",
      "text/plain": [
       "<matplotlib.figure.Figure at 0x1140695c0>"
      ]
     },
     "metadata": {},
     "output_type": "display_data"
    },
    {
     "name": "stdout",
     "output_type": "stream",
     "text": [
      "intersections [1.3250281  0.49605555]\n"
     ]
    }
   ],
   "source": [
    "voiced_signals, unvoiced_signals = get_feature_data(2)\n",
    "print_distrubutions(voiced_signals, unvoiced_signals)"
   ]
  },
  {
   "cell_type": "markdown",
   "metadata": {},
   "source": [
    "### Rmax distrubution"
   ]
  },
  {
   "cell_type": "code",
   "execution_count": 182,
   "metadata": {},
   "outputs": [
    {
     "name": "stdout",
     "output_type": "stream",
     "text": [
      "voiced_mean 0.7520441009085105\n",
      "voiced_std 1.1768569898147816\n",
      "unvoiced_mean 0.7090659960703576\n",
      "unvoiced_std 10.35030440505906\n"
     ]
    },
    {
     "data": {
      "image/png": "[encoded data removed]",
      "text/plain": [
       "<matplotlib.figure.Figure at 0x11258ba20>"
      ]
     },
     "metadata": {},
     "output_type": "display_data"
    },
    {
     "name": "stdout",
     "output_type": "stream",
     "text": [
      "intersections [1.21728693 0.26905511]\n"
     ]
    }
   ],
   "source": [
    "voiced_signals, unvoiced_signals = get_feature_data(3)\n",
    "print_distrubutions(voiced_signals, unvoiced_signals)"
   ]
  },
  {
   "cell_type": "code",
   "execution_count": null,
   "metadata": {},
   "outputs": [],
   "source": []
  }
 ],
 "metadata": {
  "kernelspec": {
   "display_name": "Python 3",
   "language": "python",
   "name": "python3"
  },
  "language_info": {
   "codemirror_mode": {
    "name": "ipython",
    "version": 3
   },
   "file_extension": ".py",
   "mimetype": "text/x-python",
   "name": "python",
   "nbconvert_exporter": "python",
   "pygments_lexer": "ipython3",
   "version": "3.6.4"
  }
 },
 "nbformat": 4,
 "nbformat_minor": 2
}
